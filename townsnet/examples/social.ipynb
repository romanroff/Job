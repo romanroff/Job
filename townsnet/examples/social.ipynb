{
 "cells": [
  {
   "cell_type": "markdown",
   "metadata": {},
   "source": [
    "Получаем типы сервисов"
   ]
  },
  {
   "cell_type": "code",
   "execution_count": 1,
   "metadata": {},
   "outputs": [],
   "source": [
    "from townsnet.provision.service_type import ServiceType, Category, AccessibilityType, SupplyType\n",
    "\n",
    "SERVICE_TYPES = {\n",
    "    21 : ServiceType(\n",
    "      id=21, \n",
    "      accessibility_value=300, \n",
    "      supply_value=61,\n",
    "      accessibility_type=AccessibilityType.METERS, \n",
    "      supply_type=SupplyType.CAPACITY_PER_1000, \n",
    "      category=Category.BASIC,\n",
    "      weight=0.2\n",
    "    ),\n",
    "    63 : ServiceType(\n",
    "      id=63, \n",
    "      accessibility_value=2000,\n",
    "      supply_value=105.2, \n",
    "      accessibility_type=AccessibilityType.METERS, \n",
    "      supply_type=SupplyType.CAPACITY_PER_1000, \n",
    "      category=Category.ADDITIONAL,\n",
    "      weight=0.3\n",
    "    ),\n",
    "    28 : ServiceType(\n",
    "      id=28, \n",
    "      accessibility_value=10,\n",
    "      supply_value=13, \n",
    "      accessibility_type=AccessibilityType.MINUTES, \n",
    "      supply_type=SupplyType.CAPACITY_PER_1000, \n",
    "      category=Category.COMFORT,\n",
    "      weight=0.3\n",
    "    ),\n",
    "}"
   ]
  },
  {
   "cell_type": "code",
   "execution_count": 2,
   "metadata": {},
   "outputs": [],
   "source": [
    "SERVICE_TYPES_NAMES = {\n",
    "  21: 'kindergarten',\n",
    "  63: 'cinema',\n",
    "  28: 'polyclinic',\n",
    "}"
   ]
  },
  {
   "cell_type": "code",
   "execution_count": 3,
   "metadata": {},
   "outputs": [],
   "source": [
    "import geopandas as gpd\n",
    "\n",
    "provisions = {SERVICE_TYPES[st_id] : gpd.read_file(f'./data/res/{st_name}_towns.geojson') for st_id, st_name in SERVICE_TYPES_NAMES.items()}"
   ]
  },
  {
   "cell_type": "code",
   "execution_count": 5,
   "metadata": {},
   "outputs": [],
   "source": [
    "from townsnet.provision.social_model import SocialModel\n",
    "\n",
    "towns_gdf = list(provisions.values())[0].copy()\n",
    "sm = SocialModel(towns_gdf, provisions)"
   ]
  },
  {
   "cell_type": "code",
   "execution_count": 6,
   "metadata": {},
   "outputs": [
    {
     "data": {
      "text/html": [
       "<div>\n",
       "<style scoped>\n",
       "    .dataframe tbody tr th:only-of-type {\n",
       "        vertical-align: middle;\n",
       "    }\n",
       "\n",
       "    .dataframe tbody tr th {\n",
       "        vertical-align: top;\n",
       "    }\n",
       "\n",
       "    .dataframe thead th {\n",
       "        text-align: right;\n",
       "    }\n",
       "</style>\n",
       "<table border=\"1\" class=\"dataframe\">\n",
       "  <thead>\n",
       "    <tr style=\"text-align: right;\">\n",
       "      <th></th>\n",
       "      <th>building</th>\n",
       "      <th>name</th>\n",
       "      <th>addr:street</th>\n",
       "      <th>addr:housenumber</th>\n",
       "      <th>addr:city</th>\n",
       "      <th>type</th>\n",
       "      <th>is_living</th>\n",
       "      <th>geometry</th>\n",
       "    </tr>\n",
       "  </thead>\n",
       "  <tbody>\n",
       "    <tr>\n",
       "      <th>0</th>\n",
       "      <td>None</td>\n",
       "      <td>None</td>\n",
       "      <td>None</td>\n",
       "      <td>None</td>\n",
       "      <td>None</td>\n",
       "      <td>project</td>\n",
       "      <td>False</td>\n",
       "      <td>POLYGON ((30.99391 59.92460, 30.99972 59.92939...</td>\n",
       "    </tr>\n",
       "  </tbody>\n",
       "</table>\n",
       "</div>"
      ],
      "text/plain": [
       "  building  name addr:street addr:housenumber addr:city     type  is_living  \\\n",
       "0     None  None        None             None      None  project      False   \n",
       "\n",
       "                                            geometry  \n",
       "0  POLYGON ((30.99391 59.92460, 30.99972 59.92939...  "
      ]
     },
     "execution_count": 6,
     "metadata": {},
     "output_type": "execute_result"
    }
   ],
   "source": [
    "project_gdf = gpd.read_file('./data/territories/shlis.geojson')\n",
    "project_gdf"
   ]
  },
  {
   "cell_type": "code",
   "execution_count": 8,
   "metadata": {},
   "outputs": [],
   "source": [
    "eval = sm.evaluate_provisions(project_gdf.iloc[0].geometry)"
   ]
  },
  {
   "cell_type": "code",
   "execution_count": 30,
   "metadata": {},
   "outputs": [
    {
     "data": {
      "text/html": [
       "<div>\n",
       "<style scoped>\n",
       "    .dataframe tbody tr th:only-of-type {\n",
       "        vertical-align: middle;\n",
       "    }\n",
       "\n",
       "    .dataframe tbody tr th {\n",
       "        vertical-align: top;\n",
       "    }\n",
       "\n",
       "    .dataframe thead th {\n",
       "        text-align: right;\n",
       "    }\n",
       "</style>\n",
       "<table border=\"1\" class=\"dataframe\">\n",
       "  <thead>\n",
       "    <tr style=\"text-align: right;\">\n",
       "      <th></th>\n",
       "      <th>weight</th>\n",
       "      <th>category</th>\n",
       "      <th>provision</th>\n",
       "    </tr>\n",
       "    <tr>\n",
       "      <th>id</th>\n",
       "      <th></th>\n",
       "      <th></th>\n",
       "      <th></th>\n",
       "    </tr>\n",
       "  </thead>\n",
       "  <tbody>\n",
       "    <tr>\n",
       "      <th>28</th>\n",
       "      <td>0.3</td>\n",
       "      <td>COMFORT</td>\n",
       "      <td>0.116279</td>\n",
       "    </tr>\n",
       "  </tbody>\n",
       "</table>\n",
       "</div>"
      ],
      "text/plain": [
       "    weight category  provision\n",
       "id                            \n",
       "28     0.3  COMFORT   0.116279"
      ]
     },
     "execution_count": 30,
     "metadata": {},
     "output_type": "execute_result"
    }
   ],
   "source": [
    "import pandas as pd\n",
    "eval_df = pd.DataFrame([{\n",
    "  'id' : st.id,\n",
    "  'weight': st.weight,\n",
    "  'category': st.category.name,\n",
    "  'provision': prov\n",
    "  } for st, prov in eval.items()]).set_index('id', drop=True)\n",
    "eval_df = eval_df[eval_df.provision >= 0.1]\n",
    "eval_df"
   ]
  },
  {
   "cell_type": "code",
   "execution_count": 31,
   "metadata": {},
   "outputs": [
    {
     "ename": "ValueError",
     "evalue": "not enough values to unpack (expected 3, got 1)",
     "output_type": "error",
     "traceback": [
      "\u001b[0;31m---------------------------------------------------------------------------\u001b[0m",
      "\u001b[0;31mValueError\u001b[0m                                Traceback (most recent call last)",
      "Cell \u001b[0;32mIn[31], line 1\u001b[0m\n\u001b[0;32m----> 1\u001b[0m additional, basic, comfort \u001b[39m=\u001b[39m eval_df\u001b[39m.\u001b[39mgroupby(\u001b[39m'\u001b[39m\u001b[39mcategory\u001b[39m\u001b[39m'\u001b[39m)\u001b[39m.\u001b[39magg({\u001b[39m'\u001b[39m\u001b[39mweight\u001b[39m\u001b[39m'\u001b[39m:\u001b[39m'\u001b[39m\u001b[39msum\u001b[39m\u001b[39m'\u001b[39m})[\u001b[39m'\u001b[39m\u001b[39mweight\u001b[39m\u001b[39m'\u001b[39m]\n",
      "\u001b[0;31mValueError\u001b[0m: not enough values to unpack (expected 3, got 1)"
     ]
    }
   ],
   "source": [
    "additional, basic, comfort = eval_df.groupby('category').agg({'weight':'sum'})['weight']"
   ]
  }
 ],
 "metadata": {
  "kernelspec": {
   "display_name": "Python 3.10.12 ('.venv': venv)",
   "language": "python",
   "name": "python3"
  },
  "language_info": {
   "codemirror_mode": {
    "name": "ipython",
    "version": 3
   },
   "file_extension": ".py",
   "mimetype": "text/x-python",
   "name": "python",
   "nbconvert_exporter": "python",
   "pygments_lexer": "ipython3",
   "version": "3.10.12"
  },
  "orig_nbformat": 4,
  "vscode": {
   "interpreter": {
    "hash": "ecba21b15397da16ca99d7f1942a3542b6207e57f8eb8fedf938077200da1bc3"
   }
  }
 },
 "nbformat": 4,
 "nbformat_minor": 2
}
