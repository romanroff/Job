{
 "cells": [
  {
   "cell_type": "code",
   "execution_count": 1,
   "id": "4574920f",
   "metadata": {},
   "outputs": [],
   "source": [
    "import os\n",
    "import pickle\n",
    "import osmnx as ox\n",
    "import pandas as pd\n",
    "import geopandas as gpd\n",
    "from blocksnet.blocks.cutting import preprocess_urban_objects, cut_urban_blocks # type: ignore\n",
    "from blocksnet.blocks.assignment import assign_land_use                         # type: ignore\n",
    "from blocksnet.enums import LandUse                                             # type: ignore"
   ]
  },
  {
   "cell_type": "code",
   "execution_count": 6,
   "id": "f05d174a",
   "metadata": {},
   "outputs": [
    {
     "name": "stderr",
     "output_type": "stream",
     "text": [
      "C:\\Users\\Local\\AppData\\Local\\Temp\\ipykernel_13960\\4233194021.py:1: DtypeWarning: Columns (9,10,11) have mixed types. Specify dtype option on import or set low_memory=False.\n",
      "  df = pd.read_csv('data/graphs_data/RU.txt', sep='\\t', header=None)[[1, 14, 18]]\n"
     ]
    },
    {
     "name": "stdout",
     "output_type": "stream",
     "text": [
      "Количество городов: 91\n"
     ]
    }
   ],
   "source": [
    "df = pd.read_csv('data/graphs_data/RU.txt', sep='\\t', header=None)[[1, 14, 18]]\n",
    "df.columns = ['name', 'population', 'date']\n",
    "names = df[(df['population'] > 800_000) & (df['population'] < 200_000_000)].sort_values(by='population', ascending=True).name.values\n",
    "print(f'Количество городов: {len(names)}')"
   ]
  },
  {
   "cell_type": "code",
   "execution_count": 7,
   "id": "273c0f6d",
   "metadata": {},
   "outputs": [],
   "source": [
    "RULES = {\n",
    "    'commercial': LandUse.BUSINESS,\n",
    "    'industrial': LandUse.INDUSTRIAL,\n",
    "    'cemetery': LandUse.SPECIAL,\n",
    "    'garages': LandUse.INDUSTRIAL,\n",
    "    'residential': LandUse.RESIDENTIAL,\n",
    "    'retail': LandUse.BUSINESS,\n",
    "    'grass': LandUse.RECREATION,\n",
    "    'farmland': LandUse.AGRICULTURE,\n",
    "    'construction': LandUse.SPECIAL,\n",
    "    'brownfield': LandUse.INDUSTRIAL,\n",
    "    'forest': LandUse.RECREATION,\n",
    "    'recreation_ground': LandUse.RECREATION,\n",
    "    'religious': LandUse.SPECIAL,\n",
    "    'flowerbed': LandUse.RECREATION,\n",
    "    'military': LandUse.SPECIAL,\n",
    "    'landfill': LandUse.TRANSPORT\n",
    "}\n",
    "\n",
    "BC_TAGS = {\n",
    "    'roads': {\n",
    "        \"highway\": [\n",
    "            \"construction\", \"crossing\", \"living_street\", \"motorway\", \"motorway_link\", \"motorway_junction\",\n",
    "            \"pedestrian\", \"primary\", \"primary_link\", \"raceway\", \"residential\", \"road\", \"secondary\",\n",
    "            \"secondary_link\", \"services\", \"tertiary\", \"tertiary_link\", \"track\", \"trunk\", \"trunk_link\",\n",
    "            \"turning_circle\", \"turning_loop\", \"unclassified\"\n",
    "        ],\n",
    "        \"service\": [\"living_street\", \"emergency_access\"]\n",
    "    },\n",
    "    'railways': {\n",
    "        \"railway\": \"rail\"\n",
    "    },\n",
    "    'water': {\n",
    "        'riverbank': True,\n",
    "        'reservoir': True,\n",
    "        'basin': True,\n",
    "        'dock': True,\n",
    "        'canal': True,\n",
    "        'pond': True,\n",
    "        'natural': ['water', 'bay'],\n",
    "        'waterway': ['river', 'canal', 'ditch'],\n",
    "        'landuse': 'basin',\n",
    "        'water': 'lake'\n",
    "    }\n",
    "}\n",
    "\n",
    "def process_and_save_city(city_name, folder=\"cities\", crs='EPSG:3857'):\n",
    "    \"\"\"Загружает данные города, формирует блоки, сохраняет в {city}.pkl\"\"\"\n",
    "    os.makedirs(folder, exist_ok=True)\n",
    "    boundaries = ox.geocode_to_gdf(city_name)\n",
    "\n",
    "    # Получаем water\n",
    "    try:\n",
    "        water = ox.features_from_polygon(boundaries.union_all(), BC_TAGS['water']).reset_index(drop=True)\n",
    "        water = water[water.geom_type.isin(['Polygon', 'MultiPolygon', 'LineString', 'MultiLineString'])].copy()\n",
    "        if water.empty:\n",
    "            water = None\n",
    "        else:\n",
    "            water.to_crs(crs, inplace=True)\n",
    "    except Exception:\n",
    "        water = None\n",
    "\n",
    "    # Получаем roads\n",
    "    try:\n",
    "        roads = ox.features_from_polygon(boundaries.union_all(), BC_TAGS['roads']).reset_index(drop=True)\n",
    "        roads = roads[roads.geom_type.isin(['LineString', 'MultiLineString'])].copy()\n",
    "        if roads.empty:\n",
    "            roads = None\n",
    "        else:\n",
    "            roads.to_crs(crs, inplace=True)\n",
    "    except Exception:\n",
    "        roads = None\n",
    "\n",
    "    # Получаем railways\n",
    "    try:\n",
    "        railways = ox.features_from_polygon(boundaries.union_all(), BC_TAGS['railways']).reset_index(drop=True)\n",
    "        railways = railways[railways.geom_type.isin(['LineString', 'MultiLineString'])].copy()\n",
    "        if railways.empty:\n",
    "            railways = None\n",
    "        else:\n",
    "            railways.to_crs(crs, inplace=True)\n",
    "    except Exception:\n",
    "        railways = None\n",
    "\n",
    "    boundaries.to_crs(crs, inplace=True)\n",
    "\n",
    "    lines, polygons = preprocess_urban_objects(\n",
    "        roads_gdf=roads if roads is not None else None,\n",
    "        railways_gdf=railways if railways is not None else None,\n",
    "        water_gdf=water if water is not None else None\n",
    "    )\n",
    "    blocks = cut_urban_blocks(boundaries, lines, polygons)\n",
    "\n",
    "    # Получаем функциональные зоны\n",
    "    try:\n",
    "        functional_zones = ox.features_from_polygon(boundaries.to_crs(4326).union_all(), tags={'landuse': True})\n",
    "        functional_zones = functional_zones[functional_zones.geom_type.isin(['Polygon', 'MultiPolygon'])].copy()\n",
    "        functional_zones = functional_zones.reset_index(drop=True)[['geometry', 'landuse']].rename(columns={'landuse': 'functional_zone'})\n",
    "        if functional_zones.empty:\n",
    "            functional_zones = None\n",
    "        else:\n",
    "            functional_zones = functional_zones.to_crs(crs)\n",
    "    except Exception:\n",
    "        functional_zones = None\n",
    "\n",
    "    if functional_zones is not None:\n",
    "        blocks = assign_land_use(\n",
    "            blocks,\n",
    "            functional_zones.reset_index(drop=True),\n",
    "            RULES\n",
    "        )\n",
    "        blocks.dropna(subset=['land_use'], inplace=True)\n",
    "        blocks = blocks[['geometry', 'land_use', 'share']][blocks.share > 0.8]\n",
    "        blocks.reset_index(drop=True, inplace=True)\n",
    "    else:\n",
    "        blocks['land_use'] = None\n",
    "        blocks['share'] = None\n",
    "\n",
    "    # Сохраняем\n",
    "    filename = os.path.join(folder, f\"{city_name}.pkl\")\n",
    "    with open(filename, \"wb\") as f:\n",
    "        pickle.dump(blocks, f)\n",
    "    return blocks\n",
    "\n",
    "def load_and_merge_cities(folder=\"cities\"):\n",
    "    \"\"\"Загружает все .pkl из папки и объединяет в один GeoDataFrame\"\"\"\n",
    "    gdfs = []\n",
    "    for fname in os.listdir(folder):\n",
    "        if fname.endswith(\".pkl\"):\n",
    "            with open(os.path.join(folder, fname), \"rb\") as f:\n",
    "                gdf = pickle.load(f)\n",
    "                gdf[\"city\"] = os.path.splitext(fname)[0]\n",
    "                gdfs.append(gdf)\n",
    "    if gdfs:\n",
    "        return gpd.GeoDataFrame(pd.concat(gdfs, ignore_index=True), crs=gdfs[0].crs)\n",
    "    else:\n",
    "        return gpd.GeoDataFrame()"
   ]
  },
  {
   "cell_type": "code",
   "execution_count": null,
   "id": "5bc01417",
   "metadata": {},
   "outputs": [
    {
     "name": "stdout",
     "output_type": "stream",
     "text": [
      "Ошибка при обработке города Respublika Mordoviya. Возможно, нет данных или ошибка в запросе.\n"
     ]
    },
    {
     "name": "stderr",
     "output_type": "stream",
     "text": [
      "d:\\programming\\github\\Job\\.venv\\lib\\site-packages\\osmnx\\_overpass.py:267: UserWarning: This area is 231 times your configured Overpass max query area size. It will automatically be divided up into multiple sub-queries accordingly. This may take a long time.\n",
      "  multi_poly_proj = utils_geo._consolidate_subdivide_geometry(poly_proj)\n"
     ]
    }
   ],
   "source": [
    "# Пример использования:\n",
    "for name in names:\n",
    "    try:\n",
    "        process_and_save_city(f\"{name}\")\n",
    "    except:\n",
    "        print(f\"Ошибка при обработке города {name}. Возможно, нет данных или ошибка в запросе.\")\n",
    "        continue"
   ]
  },
  {
   "cell_type": "code",
   "execution_count": 4,
   "id": "d1f777ff",
   "metadata": {},
   "outputs": [
    {
     "name": "stderr",
     "output_type": "stream",
     "text": [
      "C:\\Users\\Local\\AppData\\Local\\Temp\\ipykernel_15928\\60239209.py:135: FutureWarning: The behavior of DataFrame concatenation with empty or all-NA entries is deprecated. In a future version, this will no longer exclude empty or all-NA columns when determining the result dtypes. To retain the old behavior, exclude the relevant entries before the concat operation.\n",
      "  return gpd.GeoDataFrame(pd.concat(gdfs, ignore_index=True), crs=gdfs[0].crs)\n"
     ]
    },
    {
     "data": {
      "application/vnd.microsoft.datawrangler.viewer.v0+json": {
       "columns": [
        {
         "name": "land_use",
         "rawType": "object",
         "type": "string"
        },
        {
         "name": "0",
         "rawType": "int64",
         "type": "integer"
        }
       ],
       "ref": "1331f80e-aeb5-4a11-a6e7-36c0b88e63e8",
       "rows": [
        [
         "LandUse.RESIDENTIAL",
         "86308"
        ],
        [
         "LandUse.AGRICULTURE",
         "5513"
        ],
        [
         "LandUse.INDUSTRIAL",
         "4666"
        ],
        [
         "LandUse.SPECIAL",
         "972"
        ],
        [
         "LandUse.RECREATION",
         "468"
        ],
        [
         "LandUse.BUSINESS",
         "408"
        ],
        [
         "LandUse.TRANSPORT",
         "7"
        ]
       ],
       "shape": {
        "columns": 1,
        "rows": 7
       }
      },
      "text/plain": [
       "land_use\n",
       "LandUse.RESIDENTIAL    86308\n",
       "LandUse.AGRICULTURE     5513\n",
       "LandUse.INDUSTRIAL      4666\n",
       "LandUse.SPECIAL          972\n",
       "LandUse.RECREATION       468\n",
       "LandUse.BUSINESS         408\n",
       "LandUse.TRANSPORT          7\n",
       "dtype: int64"
      ]
     },
     "execution_count": 4,
     "metadata": {},
     "output_type": "execute_result"
    }
   ],
   "source": [
    "all_blocks = load_and_merge_cities()\n",
    "all_blocks['land_use'] = all_blocks['land_use'].astype(str)\n",
    "all_blocks = all_blocks[~all_blocks['land_use'].isin(['None'])]\n",
    "all_blocks.groupby('land_use').size().sort_values(ascending=False)"
   ]
  }
 ],
 "metadata": {
  "kernelspec": {
   "display_name": ".venv",
   "language": "python",
   "name": "python3"
  },
  "language_info": {
   "codemirror_mode": {
    "name": "ipython",
    "version": 3
   },
   "file_extension": ".py",
   "mimetype": "text/x-python",
   "name": "python",
   "nbconvert_exporter": "python",
   "pygments_lexer": "ipython3",
   "version": "3.10.11"
  }
 },
 "nbformat": 4,
 "nbformat_minor": 5
}
